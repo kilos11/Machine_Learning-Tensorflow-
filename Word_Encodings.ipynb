{
  "nbformat": 4,
  "nbformat_minor": 0,
  "metadata": {
    "colab": {
      "provenance": [],
      "include_colab_link": true
    },
    "kernelspec": {
      "name": "python3",
      "display_name": "Python 3"
    }
  },
  "cells": [
    {
      "cell_type": "markdown",
      "metadata": {
        "id": "view-in-github",
        "colab_type": "text"
      },
      "source": [
        "<a href=\"https://colab.research.google.com/github/kilos11/Machine_Learning-Tensorflow-/blob/main/Word_Encodings.ipynb\" target=\"_parent\"><img src=\"https://colab.research.google.com/assets/colab-badge.svg\" alt=\"Open In Colab\"/></a>"
      ]
    },
    {
      "cell_type": "markdown",
      "metadata": {
        "id": "su3bfBDiRK9L"
      },
      "source": [
        "# Word Encodings\n",
        "\n",
        "The notebooks explains the implementation of word encodings in NLP using the tensorflow library."
      ]
    },
    {
      "cell_type": "markdown",
      "metadata": {
        "id": "V1vpla79AfJj"
      },
      "source": [
        "## Import libraries and APIs"
      ]
    },
    {
      "cell_type": "code",
      "metadata": {
        "id": "dVGySTYgyVgW"
      },
      "source": [
        "## import the tensorflow APIs\n",
        "import tensorflow as tf\n",
        "from tensorflow import keras\n",
        "from tensorflow.keras.preprocessing.text import Tokenizer"
      ],
      "execution_count": null,
      "outputs": []
    },
    {
      "cell_type": "markdown",
      "metadata": {
        "id": "ogxDv27ZAiOc"
      },
      "source": [
        "## Define training sentences"
      ]
    },
    {
      "cell_type": "code",
      "metadata": {
        "id": "oC-bEci9Q-EI"
      },
      "source": [
        "##sentences to tokenize\n",
        "train_sentences = [\n",
        "             'It is a sunny day',\n",
        "             # add a new sentence here\n",
        "\n",
        "]"
      ],
      "execution_count": null,
      "outputs": []
    },
    {
      "cell_type": "markdown",
      "metadata": {
        "id": "FPwnd4K1AjXM"
      },
      "source": [
        "## Set up the tokenizer"
      ]
    },
    {
      "cell_type": "code",
      "metadata": {
        "id": "GbEn11WiT5Sp"
      },
      "source": [
        "##instantiate the tokenizer\n",
        "tokenizer = Tokenizer(num_words=100)\n",
        "\n",
        "##train the tokenizer on training sentences\n",
        "tokenizer.fit_on_texts(train_sentences)\n",
        "\n",
        "##store word index for the words in the sentence\n",
        "word_index = tokenizer.word_index\n"
      ],
      "execution_count": null,
      "outputs": []
    },
    {
      "cell_type": "code",
      "metadata": {
        "id": "0zZR31LAUM4p",
        "colab": {
          "base_uri": "https://localhost:8080/"
        },
        "outputId": "b9e9fe3b-7f7c-4f5f-8819-5cbb259dc094"
      },
      "source": [
        "print(word_index)"
      ],
      "execution_count": null,
      "outputs": [
        {
          "output_type": "stream",
          "name": "stdout",
          "text": [
            "{'it': 1, 'is': 2, 'a': 3, 'sunny': 4, 'day': 5}\n"
          ]
        }
      ]
    },
    {
      "cell_type": "code",
      "metadata": {
        "id": "ummZO9QPTW2h"
      },
      "source": [],
      "execution_count": null,
      "outputs": []
    }
  ]
}